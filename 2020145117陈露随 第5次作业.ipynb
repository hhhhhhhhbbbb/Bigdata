{
 "cells": [
  {
   "cell_type": "code",
   "execution_count": 26,
   "metadata": {},
   "outputs": [
    {
     "data": {
      "text/html": [
       "<table border=\"1\" class=\"dataframe\">\n",
       "    <thead>\n",
       "        <tr>\n",
       "            <th>考试序号</th> <th>姓名</th>\n",
       "        </tr>\n",
       "    </thead>\n",
       "    <tbody>\n",
       "        <tr>\n",
       "            <td>1   </td> <td>364 </td>\n",
       "        </tr>\n",
       "        <tr>\n",
       "            <td>2   </td> <td>443 </td>\n",
       "        </tr>\n",
       "        <tr>\n",
       "            <td>3   </td> <td>350 </td>\n",
       "        </tr>\n",
       "        <tr>\n",
       "            <td>4   </td> <td>429 </td>\n",
       "        </tr>\n",
       "        <tr>\n",
       "            <td>5   </td> <td>273 </td>\n",
       "        </tr>\n",
       "        <tr>\n",
       "            <td>6   </td> <td>296 </td>\n",
       "        </tr>\n",
       "        <tr>\n",
       "            <td>7   </td> <td>305 </td>\n",
       "        </tr>\n",
       "    </tbody>\n",
       "</table>"
      ],
      "text/plain": [
       "<IPython.core.display.HTML object>"
      ]
     },
     "metadata": {},
     "output_type": "display_data"
    },
    {
     "data": {
      "image/png": "[encoded data removed]",
      "text/plain": [
       "<Figure size 432x288 with 1 Axes>"
      ]
     },
     "metadata": {
      "needs_background": "light"
     },
     "output_type": "display_data"
    }
   ],
   "source": [
    "from datascience import *\n",
    "import matplotlib.pyplot as plt\n",
    "\n",
    "%matplotlib inline\n",
    "\n",
    "def extract_rank(data,name):\n",
    "    temp = data.where('姓名',are.equal_to(name)).column(11).item(0)\n",
    "    return temp\n",
    "    \n",
    "\n",
    "data1 = Table.read_table('./bigdata_test/20211105-utf-8.csv')\n",
    "data2 = Table.read_table('./bigdata_test/20211106-utf-8.csv')\n",
    "data3 = Table.read_table('./bigdata_test/20211107-utf-8.csv')\n",
    "data4 = Table.read_table('./bigdata_test/20211108-utf-8.csv')\n",
    "data5 = Table.read_table('./bigdata_test/20211109-utf-8.csv')\n",
    "data6 = Table.read_table('./bigdata_test/20211109-1-utf-8.csv')\n",
    "data7 = Table.read_table('./bigdata_test/20211110-utf-8.csv')\n",
    "\n",
    "name = '周靖珊'\n",
    "\n",
    "rank1 = extract_rank(data1,name)\n",
    "rank2 = extract_rank(data2,name)\n",
    "rank3 = extract_rank(data3,name)\n",
    "rank4 = extract_rank(data4,name)\n",
    "rank5 = extract_rank(data5,name)\n",
    "rank6 = extract_rank(data6,name)\n",
    "rank7 = extract_rank(data7,name)\n",
    "\n",
    "rank_array = make_array(rank1,rank2,rank3,rank4,rank5,rank6,rank7)\n",
    "\n",
    "results = Table().with_columns('考试序号',make_array(1,2,3,4,5,6,7),'姓名',rank_array)\n",
    "results.show()\n",
    "\n",
    "plt.plot(make_array(1,2,3,4,5,6,7),rank_array,'o--',label=name)\n",
    "\n",
    "plt.xlabel('历次考试')\n",
    "plt.ylabel('年级RANK')\n",
    "\n",
    "plt.axis([0,10,650,150])\n",
    "plt.legend(loc='upper right')\n",
    "\n",
    "plt.rcParams['font.sans-serif']=['Microsoft YaHei']\n",
    "\n",
    "plt.grid()\n",
    "plt.show()"
   ]
  },
  {
   "cell_type": "code",
   "execution_count": null,
   "metadata": {},
   "outputs": [],
   "source": []
  },
  {
   "cell_type": "code",
   "execution_count": null,
   "metadata": {},
   "outputs": [],
   "source": []
  }
 ],
 "metadata": {
  "kernelspec": {
   "display_name": "Python 3",
   "language": "python",
   "name": "python3"
  },
  "language_info": {
   "codemirror_mode": {
    "name": "ipython",
    "version": 3
   },
   "file_extension": ".py",
   "mimetype": "text/x-python",
   "name": "python",
   "nbconvert_exporter": "python",
   "pygments_lexer": "ipython3",
   "version": "3.8.8"
  }
 },
 "nbformat": 4,
 "nbformat_minor": 2
}
